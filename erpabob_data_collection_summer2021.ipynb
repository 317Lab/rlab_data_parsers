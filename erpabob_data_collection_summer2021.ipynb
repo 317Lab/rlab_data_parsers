{
 "cells": [
  {
   "cell_type": "markdown",
   "metadata": {},
   "source": [
    "## Collect Data from a Shield"
   ]
  },
  {
   "cell_type": "code",
   "execution_count": 3,
   "metadata": {},
   "outputs": [
    {
     "name": "stdout",
     "output_type": "stream",
     "text": [
      "Start\n",
      "Connected!\n",
      "UPDATE: File Opened. Start Collection 1s from Fri Apr 23 12:51:33 2021\n",
      "Run Time: 90.000005 s\n",
      "Serial connection closed.\n"
     ]
    }
   ],
   "source": [
    "import os\n",
    "import time\n",
    "import serial\n",
    "import numpy as np\n",
    "\n",
    "# Open a serial connection with Arduino.\n",
    "# Toggle betweeen 115k, 230k\n",
    "baud115k = False\n",
    "if baud115k:\n",
    "    serialSpeed = 115200\n",
    "else:\n",
    "    serialSpeed = 230400\n",
    "print \"Start\"\n",
    "try:\n",
    "    # open serial port that Arduino is using\n",
    "    \n",
    "    port = \"/dev/cu.usbserial-AL00EZ7Q\"\n",
    "    ser = serial.Serial(port, serialSpeed, timeout=0) \n",
    "    print \"Connected!\"\n",
    "#     time.sleep(15)      # Added 5 sec for two radio connection\n",
    "    # Open data file for storage\n",
    "    \n",
    "    f = open('./data_file_230k-Test_program2-042321.txt', 'w')\n",
    "\n",
    "\n",
    "    print(\"UPDATE: File Opened. Start Collection 1s from %s\" %time.ctime())\n",
    "    \n",
    "    # First, flush any initial junk by reading for 1 sec\n",
    "    flushTime = 1\n",
    "    start = time.clock()\n",
    "    while time.clock() - start < flushTime:\n",
    "        buf = ser.read()\n",
    "    # Then read data for readTime\n",
    "    readTime = 90\n",
    "    start = time.clock() \n",
    "    while time.clock() - start < readTime:\n",
    "        buf = ser.read()\n",
    "        f.write(buf)\n",
    "        #if np.round(time.clock()-start, decimals=0) is 10 or np.round(time.clock()-start, decimals=0) is 20.: print(\"%s\" % time.clock()-start)\n",
    "    end = time.clock() \n",
    "    runTime = end - start\n",
    "    print(\"Run Time: %s s\" %runTime)\n",
    "\n",
    "    # Let's close this puppy down\n",
    "    f.close()\n",
    "    ser.flush()\n",
    "    ser.close()\n",
    "    if(not ser.isOpen()):\n",
    "        print \"Serial connection closed.\"\n",
    "    os.system('say \"Done collecting data.\"')\n",
    "except:\n",
    "    print(\"Something went wrong.\")\n",
    "    os.system('say \"Something went wrong.\"')"
   ]
  },
  {
   "cell_type": "code",
   "execution_count": null,
   "metadata": {},
   "outputs": [],
   "source": []
  },
  {
   "cell_type": "code",
   "execution_count": null,
   "metadata": {},
   "outputs": [],
   "source": []
  }
 ],
 "metadata": {
  "kernelspec": {
   "display_name": "Python 2",
   "language": "python",
   "name": "python2"
  },
  "language_info": {
   "codemirror_mode": {
    "name": "ipython",
    "version": 2
   },
   "file_extension": ".py",
   "mimetype": "text/x-python",
   "name": "python",
   "nbconvert_exporter": "python",
   "pygments_lexer": "ipython2",
   "version": "2.7.16"
  }
 },
 "nbformat": 4,
 "nbformat_minor": 1
}
