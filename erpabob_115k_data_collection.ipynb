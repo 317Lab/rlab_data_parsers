{
 "cells": [
  {
   "cell_type": "markdown",
   "metadata": {},
   "source": [
    "## Collect Data from a Shield at 115k"
   ]
  },
  {
   "cell_type": "code",
   "execution_count": 2,
   "metadata": {},
   "outputs": [
    {
     "name": "stdout",
     "output_type": "stream",
     "text": [
      "Something went wrong.\n"
     ]
    }
   ],
   "source": [
    "import os\n",
    "import time\n",
    "import serial\n",
    "\n",
    "# Open a serial connection with Arduino.\n",
    "baud115k = True\n",
    "if baud115k:\n",
    "    serialSpeed = 115200\n",
    "else:\n",
    "    serialSpeed = 230400\n",
    "try:\n",
    "    # open serial port that Arduino is using\n",
    "    port = \"/dev/tty.usbserial-A603GDSN\"#\"/dev/tty.usbmodem1411\"\n",
    "    ser = serial.Serial(port, serialSpeed, timeout=0) \n",
    "    time.sleep(15)      # Added 5 sec for two radio connection\n",
    "    # Open data file for storage\n",
    "    f = open('dataFile.txt', 'w')\n",
    "    \n",
    "    # First, flush any initial junk by reading for 1 sec\n",
    "    flushTime = 1\n",
    "    start = time.clock()\n",
    "    while time.clock() - start < flushTime:\n",
    "        buf = ser.read()\n",
    "    # Then read data for readTime\n",
    "    readTime = 600\n",
    "    start = time.clock()\n",
    "    print(\"Started running for : %s s\" %runTime)\n",
    "    while time.clock() - start < readTime:\n",
    "        buf = ser.read()\n",
    "        f.write(buf)\n",
    "    end = time.clock() \n",
    "    runTime = end - start\n",
    "    print(\"Run Time: %s s\" %runTime)\n",
    "\n",
    "    # Let's close this puppy down\n",
    "    f.close()\n",
    "    ser.flush()\n",
    "    ser.close()\n",
    "    if(not ser.isOpen()):\n",
    "        print \"Serial connection closed.\"\n",
    "    os.system('say \"Done collecting data.\"')\n",
    "except:\n",
    "    print(\"Something went wrong.\")\n",
    "    os.system('say \"Something went wrong.\"')"
   ]
  },
  {
   "cell_type": "code",
   "execution_count": null,
   "metadata": {},
   "outputs": [],
   "source": []
  },
  {
   "cell_type": "code",
   "execution_count": null,
   "metadata": {},
   "outputs": [],
   "source": []
  }
 ],
 "metadata": {
  "kernelspec": {
   "display_name": "Python 2",
   "language": "python",
   "name": "python2"
  },
  "language_info": {
   "codemirror_mode": {
    "name": "ipython",
    "version": 2
   },
   "file_extension": ".py",
   "mimetype": "text/x-python",
   "name": "python",
   "nbconvert_exporter": "python",
   "pygments_lexer": "ipython2",
   "version": "2.7.16"
  }
 },
 "nbformat": 4,
 "nbformat_minor": 1
}
