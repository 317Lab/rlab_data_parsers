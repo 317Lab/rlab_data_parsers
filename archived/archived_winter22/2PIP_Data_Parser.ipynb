{
 "cells": [
  {
   "cell_type": "code",
   "execution_count": 62,
   "id": "b5b50dcb",
   "metadata": {},
   "outputs": [],
   "source": [
    "numSampleBytes = 28\n",
    "numSweepBytes = 4 + 1 + numSampleBytes * 2 * 2 # 4 times bytes, 1 id byte, 2 bytes per sample per 2 pips\n",
    "numIMUBytes = 4 + (3 + 3 + 3 + 1) * 2 # 4 time bytes, xyz for agm each 2 bytes, 2 temp bytes\n",
    "\n",
    "aScale = 4*9.8; mScale = 1.; gScale = 2000./360\n",
    "\n",
    "f = open('.\\lamp_shield24_sweepE01_230k_1.txt','rb')\n",
    "rawBytes = f.read()\n",
    "numBytes = len(rawBytes)\n",
    "def conc(word):\n",
    "    if len(word) == 2:\n",
    "        return (word[1]<<8) | word[0]\n",
    "    if len(word) == 4:\n",
    "        return (word[3]<<24) | (word[2]<<16) | (word[1]<<8) | word[0]\n",
    "\n",
    "sweepTime = []\n",
    "payloadID = []\n",
    "pip0Voltages = []\n",
    "pip1Voltages = []\n",
    "IMUTime = []\n",
    "ax = []; ay = []; az = [] \n",
    "mx = []; my = []; mz = []\n",
    "gx = []; gy = []; gz = []\n",
    "IMUTemp = []\n",
    "\n",
    "raw = b''\n",
    "\n",
    "for i in range(numBytes):\n",
    "    if rawBytes[i] == 35: # byte is #: start of data\n",
    "        if rawBytes[i+1] == 83: # byte is \"S\": start of sweep data\n",
    "            if i+numSweepBytes+2 <= numBytes:\n",
    "                if rawBytes[i+numSweepBytes+2] == 35: # next \"#\" correct number of sweep bytes\n",
    "                    sweepBytes = rawBytes[i+2:i+numSweepBytes+2]\n",
    "                    pip0Bytes = sweepBytes[5:5+2*numSampleBytes]\n",
    "                    pip1Bytes = sweepBytes[5+2*numSampleBytes:]\n",
    "                    for sample in range(0,2*numSampleBytes,2):\n",
    "                        sweepTime.append(conc(sweepBytes[0:4])) # copy for each sample\n",
    "                        payloadID.append(sweepBytes[4])\n",
    "                        pip0Voltages.append(conc(pip0Bytes[sample:sample+2])*5/2**14)\n",
    "                        pip1Voltages.append(conc(pip1Bytes[sample:sample+2])*5/2**14)\n",
    "        elif rawBytes[i+1] == 73: # byte is \"I\": start of IMU data\n",
    "            if i+numIMUBytes+2 <= numBytes:\n",
    "                if rawBytes[i+numIMUBytes+2] == 35: # next \"#\" correct number of IMU bytes\n",
    "                    IMUBytes = rawBytes[i+2:i+numIMUBytes+2]\n",
    "                    IMUTime.append(conc(IMUBytes[0:4]))\n",
    "                    ax.append(conc(IMUBytes[4:6])*aScale/2**15)\n",
    "                    ay.append(conc(IMUBytes[6:8])*aScale/2**15)\n",
    "                    az.append(conc(IMUBytes[8:10])*aScale/2**15)\n",
    "                    mx.append(conc(IMUBytes[10:12])*mScale/2**15)\n",
    "                    my.append(conc(IMUBytes[12:14])*mScale/2**15)\n",
    "                    mz.append(conc(IMUBytes[14:16])*mScale/2**15)\n",
    "                    gx.append(conc(IMUBytes[16:18])*gScale/2**15)\n",
    "                    gy.append(conc(IMUBytes[18:20])*gScale/2**15)\n",
    "                    gz.append(conc(IMUBytes[20:22])*gScale/2**15)\n",
    "                    IMUTemp.append(conc(IMUBytes[22:24]))"
   ]
  },
  {
   "cell_type": "code",
   "execution_count": 63,
   "id": "b7db65f1",
   "metadata": {
    "scrolled": false
   },
   "outputs": [
    {
     "data": {
      "text/plain": [
       "(0.95, 1.6)"
      ]
     },
     "execution_count": 63,
     "metadata": {},
     "output_type": "execute_result"
    },
    {
     "data": {
      "image/png": "[encoded data removed]",
      "text/plain": [
       "<Figure size 720x540 with 5 Axes>"
      ]
     },
     "metadata": {
      "needs_background": "light"
     },
     "output_type": "display_data"
    }
   ],
   "source": [
    "import matplotlib.pyplot as plt\n",
    "import numpy as np\n",
    "\n",
    "ylimPip = [0.95, 1.6]\n",
    "\n",
    "gs_left = plt.GridSpec(6, 2,  hspace=0.7)\n",
    "fig = plt.figure(figsize=(10, 7.5))\n",
    "\n",
    "axis1 = fig.add_subplot(gs_left[0,0])\n",
    "plt.plot(IMUTime, ax)\n",
    "plt.plot(IMUTime, ay)\n",
    "plt.plot(IMUTime, az)\n",
    "\n",
    "axis1 = fig.add_subplot(gs_left[1,0])\n",
    "plt.plot(IMUTime, mx)\n",
    "plt.plot(IMUTime, my)\n",
    "plt.plot(IMUTime, mz)\n",
    "\n",
    "axis1 = fig.add_subplot(gs_left[2,0])\n",
    "plt.plot(IMUTime, gx)\n",
    "plt.plot(IMUTime, gy)\n",
    "plt.plot(IMUTime, gz)\n",
    "\n",
    "axis4 = fig.add_subplot(gs_left[3,0])\n",
    "plt.plot(sweepTime, pip0Voltages)\n",
    "plt.ylim(ylimPip)\n",
    "\n",
    "axis5 = fig.add_subplot(gs_left[4,0])\n",
    "plt.plot(sweepTime, pip1Voltages)\n",
    "plt.ylim(ylimPip)"
   ]
  },
  {
   "cell_type": "code",
   "execution_count": null,
   "id": "be3391d1",
   "metadata": {},
   "outputs": [],
   "source": []
  }
 ],
 "metadata": {
  "kernelspec": {
   "display_name": "Python 3 (ipykernel)",
   "language": "python",
   "name": "python3"
  },
  "language_info": {
   "codemirror_mode": {
    "name": "ipython",
    "version": 3
   },
   "file_extension": ".py",
   "mimetype": "text/x-python",
   "name": "python",
   "nbconvert_exporter": "python",
   "pygments_lexer": "ipython3",
   "version": "3.9.7"
  }
 },
 "nbformat": 4,
 "nbformat_minor": 5
}
